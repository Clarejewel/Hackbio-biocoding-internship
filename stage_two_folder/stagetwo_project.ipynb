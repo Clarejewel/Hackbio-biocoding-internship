{
 "cells": [
  {
   "cell_type": "code",
   "execution_count": 2,
   "metadata": {},
   "outputs": [
    {
     "name": "stdout",
     "output_type": "stream",
     "text": [
      "Hello, World!\n",
      "**********\n"
     ]
    }
   ],
   "source": [
    "print(\"Hello, World!\")\n",
    "print(\"*\" * 10)"
   ]
  },
  {
   "cell_type": "code",
   "execution_count": null,
   "metadata": {},
   "outputs": [],
   "source": []
  },
  {
   "cell_type": "code",
   "execution_count": 3,
   "metadata": {},
   "outputs": [
    {
     "ename": "SyntaxError",
     "evalue": "Missing parentheses in call to 'print'. Did you mean print(...)? (324857043.py, line 1)",
     "output_type": "error",
     "traceback": [
      "\u001b[0;36m  Cell \u001b[0;32mIn[3], line 1\u001b[0;36m\u001b[0m\n\u001b[0;31m    print \"Hello, World!\"\u001b[0m\n\u001b[0m    ^\u001b[0m\n\u001b[0;31mSyntaxError\u001b[0m\u001b[0;31m:\u001b[0m Missing parentheses in call to 'print'. Did you mean print(...)?\n"
     ]
    }
   ],
   "source": [
    "print \"Hello, World!\""
   ]
  },
  {
   "cell_type": "code",
   "execution_count": null,
   "metadata": {},
   "outputs": [
    {
     "name": "stdout",
     "output_type": "stream",
     "text": [
      "['ATG', 'TGC', 'CGA']\n"
     ]
    }
   ],
   "source": [
    "sequences = [\"ATG\", \"TGC\", \"CGA\"]\n",
    "print(sequences)"
   ]
  },
  {
   "cell_type": "code",
   "execution_count": null,
   "metadata": {},
   "outputs": [
    {
     "name": "stdout",
     "output_type": "stream",
     "text": [
      "i =  1\n",
      "5\n",
      "---\n",
      "i =  2\n",
      "5\n",
      "---\n",
      "i =  3\n",
      "5\n",
      "---\n",
      "i =  4\n",
      "5\n",
      "---\n"
     ]
    }
   ],
   "source": [
    "for i in range(1, 5):\n",
    "    print(\"i = \", i)\n",
    "    print(5)\n",
    "    print(\"-\" * 3)"
   ]
  },
  {
   "cell_type": "code",
   "execution_count": null,
   "metadata": {},
   "outputs": [
    {
     "name": "stdout",
     "output_type": "stream",
     "text": [
      "ATG\n",
      "TGC\n",
      "CGA\n"
     ]
    }
   ],
   "source": [
    "for seq in [\"ATG\", \"TGC\", \"CGA\"]:\n",
    "    print(seq)"
   ]
  },
  {
   "cell_type": "code",
   "execution_count": null,
   "metadata": {},
   "outputs": [
    {
     "name": "stdout",
     "output_type": "stream",
     "text": [
      "Attempt 1 2\n",
      "Attempt 2 3\n",
      "Attempt 3 4\n",
      "Attempt 4 5\n"
     ]
    }
   ],
   "source": [
    "for number in range(1, 5):\n",
    "    print(\"Attempt\", number, number + 1)"
   ]
  },
  {
   "cell_type": "code",
   "execution_count": null,
   "metadata": {},
   "outputs": [],
   "source": [
    "def multable(num, st, upto=13):\n",
    "    for i in range(st, upto):\n",
    "        print(f\"{num} x {i} = {num * i}      {num + 1} x {i} = {(num + 1) * i}\")"
   ]
  },
  {
   "cell_type": "code",
   "execution_count": null,
   "metadata": {},
   "outputs": [
    {
     "name": "stdout",
     "output_type": "stream",
     "text": [
      "4 x 4 = 16      5 x 4 = 20\n",
      "4 x 5 = 20      5 x 5 = 25\n",
      "4 x 6 = 24      5 x 6 = 30\n"
     ]
    }
   ],
   "source": [
    "multable(4, 4, 7)"
   ]
  },
  {
   "cell_type": "code",
   "execution_count": null,
   "metadata": {},
   "outputs": [
    {
     "name": "stdout",
     "output_type": "stream",
     "text": [
      "Attempt 1 .\n",
      "Attempt 3 ...\n",
      "Attempt 5 .....\n",
      "Attempt 7 .......\n",
      "Attempt 9 .........\n"
     ]
    }
   ],
   "source": [
    "for number in range(1, 10, 2):\n",
    "    print(\"Attempt\", number, number * \".\")"
   ]
  },
  {
   "cell_type": "code",
   "execution_count": null,
   "metadata": {},
   "outputs": [
    {
     "name": "stdout",
     "output_type": "stream",
     "text": [
      "Attempt\n",
      "Successful\n"
     ]
    }
   ],
   "source": [
    "successful = True\n",
    "for number in range(3):\n",
    "    print(\"Attempt\")\n",
    "    if successful:\n",
    "        print(\"Successful\")\n",
    "        break\n",
    "else:\n",
    "    print(\"Attempted 3 times and failed\")"
   ]
  },
  {
   "cell_type": "code",
   "execution_count": null,
   "metadata": {},
   "outputs": [
    {
     "name": "stdout",
     "output_type": "stream",
     "text": [
      "(0, 0)\n",
      "(0, 1)\n",
      "(0, 2)\n",
      "(1, 0)\n",
      "(1, 1)\n",
      "(1, 2)\n",
      "(2, 0)\n",
      "(2, 1)\n",
      "(2, 2)\n",
      "(3, 0)\n",
      "(3, 1)\n",
      "(3, 2)\n",
      "(4, 0)\n",
      "(4, 1)\n",
      "(4, 2)\n"
     ]
    }
   ],
   "source": [
    "# Nested loops\n",
    "for x in range(5):\n",
    "    for y in range(3):\n",
    "        print(f\"({x}, {y})\")"
   ]
  },
  {
   "cell_type": "code",
   "execution_count": null,
   "metadata": {},
   "outputs": [],
   "source": [
    " "
   ]
  },
  {
   "cell_type": "code",
   "execution_count": null,
   "metadata": {},
   "outputs": [
    {
     "name": "stdout",
     "output_type": "stream",
     "text": [
      "<class 'int'>\n",
      "<class 'range'>\n"
     ]
    }
   ],
   "source": [
    "print(type(5))\n",
    "print(type(range(5)))"
   ]
  },
  {
   "cell_type": "code",
   "execution_count": null,
   "metadata": {},
   "outputs": [
    {
     "name": "stdout",
     "output_type": "stream",
     "text": [
      "2\n",
      "4\n",
      "6\n",
      "8\n",
      "We have 4 even numbers\n"
     ]
    }
   ],
   "source": [
    "count = 0\n",
    "for number in range(1, 10):\n",
    "    if number % 2 == 0:\n",
    "        count += 1\n",
    "        print(number)\n",
    "print(f\"We have {count} even numbers\")"
   ]
  },
  {
   "cell_type": "code",
   "execution_count": null,
   "metadata": {},
   "outputs": [
    {
     "name": "stdout",
     "output_type": "stream",
     "text": [
      "Hi Judith Mbamalu\n",
      "Welcome aboard\n"
     ]
    }
   ],
   "source": [
    "# Functions\n",
    "def greet(first_name, last_name):\n",
    "    print(f\"Hi {first_name} {last_name}\")\n",
    "    print(\"Welcome aboard\")\n",
    "\n",
    "\n",
    "greet(\"Judith\", \"Mbamalu\")"
   ]
  },
  {
   "cell_type": "code",
   "execution_count": null,
   "metadata": {},
   "outputs": [
    {
     "name": "stdout",
     "output_type": "stream",
     "text": [
      "Hi Judy Mbamalu\n",
      "Welcome aboard\n",
      "Hi Chidi Mbamalu\n",
      "Welcome aboard\n",
      "Hi chi Love\n",
      "Welcome aboard\n"
     ]
    }
   ],
   "source": [
    "def greet(firstname, lastname):\n",
    "    print(f\"Hi {firstname} {lastname}\")\n",
    "    print(\"Welcome aboard\")\n",
    "\n",
    "\n",
    "greet(\"Judy\", \"Mbamalu\")\n",
    "greet(\"Chidi\", \"Mbamalu\")\n",
    "greet(\"chi\", \"Love\")"
   ]
  },
  {
   "cell_type": "code",
   "execution_count": null,
   "metadata": {},
   "outputs": [
    {
     "name": "stdout",
     "output_type": "stream",
     "text": [
      "Hi Judith\n",
      "Hi Sochi\n"
     ]
    }
   ],
   "source": [
    "# Functions perform a task (eg print), or return value which can be saved or written into a file (eg return)\n",
    "\n",
    "def greet(name):\n",
    "    print(f\"Hi {name}\")\n",
    "\n",
    "\n",
    "greet(\"Judith\")\n",
    "\n",
    "\n",
    "def greetings(name):\n",
    "    return f\"Hi {name}\"\n",
    "\n",
    "\n",
    "message = greetings(\"Sochi\")\n",
    "print(message)"
   ]
  },
  {
   "cell_type": "code",
   "execution_count": null,
   "metadata": {},
   "outputs": [
    {
     "name": "stdout",
     "output_type": "stream",
     "text": [
      "ATG A  T  G\n",
      "TGC T  G  C\n",
      "CGA C  G  A\n"
     ]
    }
   ],
   "source": [
    "sequences = [\"ATG\", \"TGC\", \"CGA\"]\n",
    "\n",
    "for seq in sequences:\n",
    "    print(f\"{seq} {seq[0]}  {seq[1]}  {seq[2]}\")"
   ]
  },
  {
   "cell_type": "code",
   "execution_count": null,
   "metadata": {},
   "outputs": [
    {
     "name": "stdout",
     "output_type": "stream",
     "text": [
      "ATG != TGC\n",
      "A != T\n",
      "T != G\n",
      "G != C\n",
      "Distance = 3\n",
      "ATG != CGA\n",
      "A != C\n",
      "T != G\n",
      "G != A\n",
      "Distance = 6\n",
      "TGC != CGA\n",
      "T != C\n",
      "G != G\n",
      "C != A\n",
      "Distance = 8\n"
     ]
    }
   ],
   "source": [
    "seq = [\"ATG\", \"TGC\", \"CGA\"]\n",
    "# first establish distance\n",
    "distance = 0\n",
    "for i in range(len(seq)):\n",
    "    for j in range(i+1, len(seq)):\n",
    "        print(f\"{seq[i]} != {seq[j]}\")\n",
    "\n",
    "        for k in range(len(seq[i])):\n",
    "            print(f\"{seq[i][k]} != {seq[j][k]}\")\n",
    "            if seq[i][k] != seq[j][k]:\n",
    "                distance += 1\n",
    "        print(f\"Distance = {distance}\")"
   ]
  },
  {
   "cell_type": "code",
   "execution_count": null,
   "metadata": {},
   "outputs": [
    {
     "name": "stdout",
     "output_type": "stream",
     "text": [
      "ATG != TGC\n",
      "Distance = 3\n",
      "ATG != CGA\n",
      "Distance = 3\n",
      "TGC != CGA\n",
      "Distance = 2\n"
     ]
    }
   ],
   "source": [
    "sequence = [\"ATG\", \"TGC\", \"CGA\"]\n",
    "\n",
    "\n",
    "def hamming_distance(seq1, seq2):\n",
    "    distance = 0\n",
    "    for i in range(len(seq1)):\n",
    "        if seq1[i] != seq2[i]:\n",
    "            distance += 1\n",
    "    return distance\n",
    "\n",
    "\n",
    "for i in range(len(sequence)):\n",
    "    for j in range(i+1, len(sequence)):\n",
    "        print(f\"{seq[i]} != {seq[j]}\")\n",
    "        seq1, seq2 = sequence[i], sequence[j]\n",
    "        distance = hamming_distance(seq1, seq2)\n",
    "        print(f\"Distance = {distance}\")"
   ]
  },
  {
   "cell_type": "code",
   "execution_count": null,
   "metadata": {},
   "outputs": [
    {
     "name": "stdout",
     "output_type": "stream",
     "text": [
      "GC content of ATGCGTAC: 50.00%\n"
     ]
    },
    {
     "ename": "TypeError",
     "evalue": "gc_content() got an unexpected keyword argument 'uppercase'",
     "output_type": "error",
     "traceback": [
      "\u001b[0;31m---------------------------------------------------------------------------\u001b[0m",
      "\u001b[0;31mTypeError\u001b[0m                                 Traceback (most recent call last)",
      "Cell \u001b[0;32mIn[175], line 23\u001b[0m\n\u001b[1;32m     20\u001b[0m     gc_content_percentage \u001b[38;5;241m=\u001b[39m ((g_count \u001b[38;5;241m+\u001b[39m c_count)\u001b[38;5;241m/\u001b[39m \u001b[38;5;28mlen\u001b[39m(sequence) \u001b[38;5;241m*\u001b[39m \u001b[38;5;241m100\u001b[39m)\n\u001b[1;32m     21\u001b[0m     \u001b[38;5;28;01mreturn\u001b[39;00m gc_content_percentage\n\u001b[0;32m---> 23\u001b[0m \u001b[38;5;28mprint\u001b[39m(\u001b[43mgc_content\u001b[49m\u001b[43m(\u001b[49m\u001b[38;5;124;43m\"\u001b[39;49m\u001b[38;5;124;43matgcgtac\u001b[39;49m\u001b[38;5;124;43m\"\u001b[39;49m\u001b[43m,\u001b[49m\u001b[43m \u001b[49m\u001b[43muppercase\u001b[49m\u001b[38;5;241;43m=\u001b[39;49m\u001b[38;5;28;43;01mFalse\u001b[39;49;00m\u001b[43m)\u001b[49m)\n",
      "\u001b[0;31mTypeError\u001b[0m: gc_content() got an unexpected keyword argument 'uppercase'"
     ]
    }
   ],
   "source": [
    "def gc_content(sequence):\n",
    "    g_count = sequence.count('G')\n",
    "    c_count = sequence.count('C')\n",
    "    gc_content_percentage = ((g_count + c_count) / len(sequence) * 100)\n",
    "    return gc_content_percentage\n",
    "\n",
    "\n",
    "# call this function with a DNA sequence as an argument\n",
    "dna_sequence = \"ATGCGTAC\"\n",
    "gc = gc_content(dna_sequence)\n",
    "print(f\"GC content of {dna_sequence}: {gc:.2f}%\")"
   ]
  },
  {
   "cell_type": "code",
   "execution_count": null,
   "metadata": {},
   "outputs": [
    {
     "name": "stdout",
     "output_type": "stream",
     "text": [
      "Sequence: ATGCGGCTAT\n",
      "A count: 2\n",
      "T count: 3\n",
      "G count: 3\n",
      "C count: 2\n",
      "GC Content: 50.00%\n",
      "------\n",
      "Sequence: ATGCGGCTAT\n",
      "A count: 2\n",
      "T count: 3\n",
      "G count: 3\n",
      "C count: 2\n",
      "GC Content: 50.00%\n"
     ]
    },
    {
     "data": {
      "text/plain": [
       "50.0"
      ]
     },
     "execution_count": 185,
     "metadata": {},
     "output_type": "execute_result"
    }
   ],
   "source": [
    "def gc_content(sequence, detailed=False):\n",
    "    \"\"\"Calculates the GC content of a DNA sequence.\n",
    "\n",
    "    Args:\n",
    "        sequence (str): The DNA sequence.\n",
    "        detailed (bool): If True, prints nucleotide counts.\n",
    "\n",
    "    Returns:\n",
    "        float: GC content percentage.\n",
    "    \"\"\"\n",
    "    # Count nucleotides\n",
    "    g_count = sequence.count('G')\n",
    "    c_count = sequence.count('C')\n",
    "    a_count = sequence.count('A')\n",
    "    t_count = sequence.count('T')\n",
    "\n",
    "    # Calculate GC content\n",
    "    gc_content_percentage = ((g_count + c_count) / len(sequence)) * 100\n",
    "\n",
    "    # Print detailed breakdown if requested\n",
    "    if detailed:\n",
    "        print(f\"Sequence: {sequence}\")\n",
    "        print(f\"A count: {a_count}\")\n",
    "        print(f\"T count: {t_count}\")\n",
    "        print(f\"G count: {g_count}\")\n",
    "        print(f\"C count: {c_count}\")\n",
    "        print(f\"GC Content: {gc_content_percentage:.2f}%\")\n",
    "\n",
    "    return gc_content_percentage\n",
    "\n",
    "\n",
    "# Example usage\n",
    "sequence = \"ATGCGGCTAT\"\n",
    "gc_content(sequence, detailed=True)\n",
    "gc_content(sequence)\n",
    "print(\"------\")\n",
    "gc_content(\"ATGCGGCTAT\", detailed=True)"
   ]
  },
  {
   "cell_type": "code",
   "execution_count": null,
   "metadata": {},
   "outputs": [
    {
     "data": {
      "text/plain": [
       "50.0"
      ]
     },
     "execution_count": 187,
     "metadata": {},
     "output_type": "execute_result"
    }
   ],
   "source": [
    "def gc_content(sequence, detailed=False):\n",
    "    \"\"\"Calculates thpip install pandase GC content of a DNA sequence.\n",
    "\n",
    "    Args:\n",
    "        sequence (str): The DNA sequence.\n",
    "        detailed (bool): If True, prints nucleotide counts.\n",
    "\n",
    "    Returns:\n",
    "        float: GC content percentage.\n",
    "    \"\"\"\n",
    "    # Count nucleotides\n",
    "    g_count = sequence.count('G')\n",
    "    c_count = sequence.count('C')\n",
    "    a_count = sequence.count('A')\n",
    "    t_count = sequence.count('T')\n",
    "\n",
    "    # Calculate GC content\n",
    "    gc_content_percentage = ((g_count + c_count) / len(sequence)) * 100\n",
    "\n",
    "    # Print detailed breakdown if requested\n",
    "    if detailed:\n",
    "        print(f\"Sequence: {sequence}\")\n",
    "        print(f\"A count: {a_count}\")\n",
    "        print(f\"T count: {t_count}\")\n",
    "        print(f\"G count: {g_count}\")\n",
    "        print(f\"C count: {c_count}\")\n",
    "        print(f\"GC Content: {gc_content_percentage:.2f}%\")\n",
    "\n",
    "    return gc_content_percentage\n",
    "\n",
    "\n",
    "# Example usage\n",
    "sequence = \"ATGCGGCTAT\"\n",
    "gc_content(sequence, detailed=True)"
   ]
  },
  {
   "cell_type": "code",
   "execution_count": null,
   "metadata": {},
   "outputs": [],
   "source": []
  },
  {
   "cell_type": "code",
   "execution_count": null,
   "metadata": {},
   "outputs": [
    {
     "name": "stderr",
     "output_type": "stream",
     "text": [
      "Python(23142) MallocStackLogging: can't turn off malloc stack logging because it was not enabled.\n",
      "617189.64s - pydevd: Sending message related to process being replaced timed-out after 5 seconds\n"
     ]
    },
    {
     "name": "stdout",
     "output_type": "stream",
     "text": [
      "Collecting pandas\n",
      "  Downloading pandas-2.2.3-cp313-cp313-macosx_11_0_arm64.whl.metadata (89 kB)\n",
      "Collecting numpy>=1.26.0 (from pandas)\n",
      "  Downloading numpy-2.2.3-cp313-cp313-macosx_14_0_arm64.whl.metadata (62 kB)\n",
      "Requirement already satisfied: python-dateutil>=2.8.2 in /Users/judithmbamalu/Library/Python/3.13/lib/python/site-packages (from pandas) (2.9.0.post0)\n",
      "Collecting pytz>=2020.1 (from pandas)\n",
      "  Downloading pytz-2025.1-py2.py3-none-any.whl.metadata (22 kB)\n",
      "Collecting tzdata>=2022.7 (from pandas)\n",
      "  Downloading tzdata-2025.1-py2.py3-none-any.whl.metadata (1.4 kB)\n",
      "Requirement already satisfied: six>=1.5 in /Users/judithmbamalu/Library/Python/3.13/lib/python/site-packages (from python-dateutil>=2.8.2->pandas) (1.17.0)\n",
      "Downloading pandas-2.2.3-cp313-cp313-macosx_11_0_arm64.whl (11.3 MB)\n",
      "\u001b[2K   \u001b[90m━━━━━━━━━━━━━━━━━━━━━━━━━━━━━━━━━━━━━━━━\u001b[0m \u001b[32m11.3/11.3 MB\u001b[0m \u001b[31m6.8 MB/s\u001b[0m eta \u001b[36m0:00:00\u001b[0m00:01\u001b[0m00:01\u001b[0m\n",
      "\u001b[?25hDownloading numpy-2.2.3-cp313-cp313-macosx_14_0_arm64.whl (5.1 MB)\n",
      "\u001b[2K   \u001b[90m━━━━━━━━━━━━━━━━━━━━━━━━━━━━━━━━━━━━━━━━\u001b[0m \u001b[32m5.1/5.1 MB\u001b[0m \u001b[31m7.6 MB/s\u001b[0m eta \u001b[36m0:00:00\u001b[0ma \u001b[36m0:00:01\u001b[0m\n",
      "\u001b[?25hDownloading pytz-2025.1-py2.py3-none-any.whl (507 kB)\n",
      "Downloading tzdata-2025.1-py2.py3-none-any.whl (346 kB)\n",
      "Installing collected packages: pytz, tzdata, numpy, pandas\n",
      "\u001b[33m  WARNING: The scripts f2py and numpy-config are installed in '/Library/Frameworks/Python.framework/Versions/3.13/bin' which is not on PATH.\n",
      "  Consider adding this directory to PATH or, if you prefer to suppress this warning, use --no-warn-script-location.\u001b[0m\u001b[33m\n",
      "\u001b[0mSuccessfully installed numpy-2.2.3 pandas-2.2.3 pytz-2025.1 tzdata-2025.1\n",
      "\n",
      "\u001b[1m[\u001b[0m\u001b[34;49mnotice\u001b[0m\u001b[1;39;49m]\u001b[0m\u001b[39;49m A new release of pip is available: \u001b[0m\u001b[31;49m24.3.1\u001b[0m\u001b[39;49m -> \u001b[0m\u001b[32;49m25.0.1\u001b[0m\n",
      "\u001b[1m[\u001b[0m\u001b[34;49mnotice\u001b[0m\u001b[1;39;49m]\u001b[0m\u001b[39;49m To update, run: \u001b[0m\u001b[32;49mpython3 -m pip install --upgrade pip\u001b[0m\n",
      "Note: you may need to restart the kernel to use updated packages.\n"
     ]
    }
   ],
   "source": [
    "pip install pandas\n"
   ]
  },
  {
   "cell_type": "code",
   "execution_count": null,
   "metadata": {},
   "outputs": [
    {
     "name": "stderr",
     "output_type": "stream",
     "text": [
      "Python(23172) MallocStackLogging: can't turn off malloc stack logging because it was not enabled.\n",
      "617365.13s - pydevd: Sending message related to process being replaced timed-out after 5 seconds\n"
     ]
    },
    {
     "name": "stdout",
     "output_type": "stream",
     "text": [
      "Requirement already satisfied: pip in /Library/Frameworks/Python.framework/Versions/3.13/lib/python3.13/site-packages (25.0.1)\n",
      "Note: you may need to restart the kernel to use updated packages.\n"
     ]
    }
   ],
   "source": [
    "%pip install --upgrade pip\n",
    "\n",
    "\n",
    "import pandas as pd\n"
   ]
  },
  {
   "cell_type": "code",
   "execution_count": 4,
   "metadata": {},
   "outputs": [],
   "source": [
    "import pandas as pd"
   ]
  }
 ],
 "metadata": {
  "kernelspec": {
   "display_name": "Python 3",
   "language": "python",
   "name": "python3"
  },
  "language_info": {
   "codemirror_mode": {
    "name": "ipython",
    "version": 3
   },
   "file_extension": ".py",
   "mimetype": "text/x-python",
   "name": "python",
   "nbconvert_exporter": "python",
   "pygments_lexer": "ipython3",
   "version": "3.13.2"
  }
 },
 "nbformat": 4,
 "nbformat_minor": 2
}
